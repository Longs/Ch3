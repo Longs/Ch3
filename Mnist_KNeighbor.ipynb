{
 "cells": [
  {
   "cell_type": "markdown",
   "metadata": {},
   "source": [
    "### Mnist Kneighbour exercises 1 & 2 from Geron"
   ]
  },
  {
   "cell_type": "code",
   "execution_count": 1,
   "metadata": {},
   "outputs": [],
   "source": [
    "from sklearn.datasets import fetch_openml\n",
    "import numpy as np\n",
    "mnist = fetch_openml('mnist_784',version = 1)\n",
    "X,y = mnist[\"data\"], mnist[\"target\"]\n",
    "y = y.astype(np.uint8)\n",
    "# mnist784 is already in random order, so just take the final 10k out of 70 k as test set\n",
    "X_train, X_test, y_train, y_test = X[:60000], X[60000:], y[:60000], y[60000:]"
   ]
  },
  {
   "cell_type": "code",
   "execution_count": 2,
   "metadata": {},
   "outputs": [
    {
     "data": {
      "image/png": "[encoded data removed]",
      "text/plain": [
       "<Figure size 432x288 with 1 Axes>"
      ]
     },
     "metadata": {
      "needs_background": "light"
     },
     "output_type": "display_data"
    }
   ],
   "source": [
    "import matplotlib.pyplot as plt\n",
    "sample_digit = X_train.iloc[0].to_numpy()\n",
    "sample_digit_image = sample_digit.reshape(28,28)\n",
    "plt.imshow(sample_digit_image, cmap=\"binary\")\n",
    "plt.show()"
   ]
  },
  {
   "cell_type": "code",
   "execution_count": 3,
   "metadata": {},
   "outputs": [],
   "source": [
    "#performance gain from adding standard scaling:\n",
    "from sklearn.preprocessing import StandardScaler\n",
    "scaler = StandardScaler()\n",
    "X_train_scaled = scaler.fit_transform(X_train.astype(np.float64))\n",
    "X_test_scaled = scaler.fit_transform(X_test.astype(np.float64))\n",
    "\n"
   ]
  },
  {
   "cell_type": "code",
   "execution_count": 4,
   "metadata": {},
   "outputs": [],
   "source": [
    "from sklearn.neighbors import KNeighborsClassifier\n",
    "from sklearn.pipeline import Pipeline\n",
    "from sklearn.preprocessing import StandardScaler\n",
    "from sklearn.model_selection import GridSearchCV\n",
    "\n",
    "\n",
    "\n",
    "pl_knn = Pipeline (steps=[('classifier',KNeighborsClassifier())])\n",
    "\n",
    "param_grid = {'classifier__n_neighbors':[3,4,5,6,7,8], 'classifier__weights':['uniform', 'distance']}\n",
    "\n",
    "#grid_search = GridSearchCV(pl_knn,param_grid,cv=5,scoring=\"accuracy\", return_train_score=True, n_jobs=5)\n",
    "#grid_search.fit(X_train_scaled,y_train)\n",
    "#print(f\"best estimator: {grid_search.best_estimator_}\")\n",
    "#print(f\"best score: {grid_search.best_score_}\")"
   ]
  },
  {
   "cell_type": "code",
   "execution_count": 5,
   "metadata": {},
   "outputs": [],
   "source": [
    "#grid_search.best_estimator_.score(X_test_scaled,y_test)"
   ]
  },
  {
   "cell_type": "markdown",
   "metadata": {},
   "source": [
    "* best on 3-8 is 4 and distance"
   ]
  },
  {
   "cell_type": "code",
   "execution_count": 6,
   "metadata": {},
   "outputs": [],
   "source": [
    "from sklearn.neighbors import KNeighborsClassifier\n",
    "from sklearn.pipeline import Pipeline\n",
    "from sklearn.preprocessing import StandardScaler\n",
    "from sklearn.model_selection import GridSearchCV\n",
    "\n",
    "pl_knn = Pipeline (steps=[('classifier',KNeighborsClassifier())])\n",
    "\n",
    "param_grid = {'classifier__n_neighbors':[3,4,5], 'classifier__weights':['uniform', 'distance'], 'classifier__p':[1,2]}\n",
    "\n",
    "#grid_search_2 = GridSearchCV(pl_knn,param_grid,cv=5,scoring=\"accuracy\", return_train_score=True, n_jobs=5)\n",
    "#grid_search_2.fit(X_train_scaled,y_train)\n",
    "#print(f\"best estimator: {grid_search_2.best_estimator_}\")\n",
    "#print(f\"best score: {grid_search_2.best_score_}\")"
   ]
  },
  {
   "cell_type": "code",
   "execution_count": 7,
   "metadata": {},
   "outputs": [],
   "source": [
    "#y_pred = grid_search_2.predict(X_test_scaled)\n",
    "#accuracy_score(y_test,y_pred)"
   ]
  },
  {
   "cell_type": "markdown",
   "metadata": {},
   "source": [
    "* K nearest neighbour is NOT improved by using scaling - since its not regression / GD"
   ]
  },
  {
   "cell_type": "code",
   "execution_count": 8,
   "metadata": {},
   "outputs": [],
   "source": [
    "#import joblib\n",
    "#joblib.dump(grid_search.best_estimator_, \"grid_best.pkl\")"
   ]
  },
  {
   "cell_type": "code",
   "execution_count": 3,
   "metadata": {},
   "outputs": [
    {
     "data": {
      "text/plain": [
       "0.9714"
      ]
     },
     "execution_count": 3,
     "metadata": {},
     "output_type": "execute_result"
    }
   ],
   "source": [
    "import joblib\n",
    "best_unscaled = joblib.load( \"grid_best_unscaled.pkl\")\n",
    "#print(best_unscaled.best_estimator_.named_steps[\"classifier\"])\n",
    "#print(best_unscaled.best_score_)\n",
    "from sklearn.metrics import accuracy_score\n",
    "\n",
    "y_pred = best_unscaled.predict(X_test)\n",
    "accuracy_score(y_test,y_pred)"
   ]
  },
  {
   "cell_type": "code",
   "execution_count": 4,
   "metadata": {},
   "outputs": [
    {
     "data": {
      "text/plain": [
       "{'memory': None,\n",
       " 'steps': [('classifier',\n",
       "   KNeighborsClassifier(n_neighbors=4, weights='distance'))],\n",
       " 'verbose': False,\n",
       " 'classifier': KNeighborsClassifier(n_neighbors=4, weights='distance'),\n",
       " 'classifier__algorithm': 'auto',\n",
       " 'classifier__leaf_size': 30,\n",
       " 'classifier__metric': 'minkowski',\n",
       " 'classifier__metric_params': None,\n",
       " 'classifier__n_jobs': None,\n",
       " 'classifier__n_neighbors': 4,\n",
       " 'classifier__p': 2,\n",
       " 'classifier__weights': 'distance'}"
      ]
     },
     "execution_count": 4,
     "metadata": {},
     "output_type": "execute_result"
    }
   ],
   "source": [
    "best_unscaled.get_params()"
   ]
  },
  {
   "cell_type": "markdown",
   "metadata": {},
   "source": [
    "## Data Augmentation\n",
    "Adding modified training data (modifying location of the image in the grid)"
   ]
  },
  {
   "cell_type": "code",
   "execution_count": 6,
   "metadata": {},
   "outputs": [
    {
     "data": {
      "image/png": "[encoded data removed]",
      "text/plain": [
       "<Figure size 432x288 with 1 Axes>"
      ]
     },
     "metadata": {
      "needs_background": "light"
     },
     "output_type": "display_data"
    }
   ],
   "source": [
    "image = X_train.iloc[1].to_numpy().reshape(28,28)\n",
    "plt.imshow(image, cmap=\"binary\")\n",
    "plt.show()"
   ]
  },
  {
   "cell_type": "code",
   "execution_count": 7,
   "metadata": {},
   "outputs": [
    {
     "data": {
      "image/png": "[encoded data removed]",
      "text/plain": [
       "<Figure size 432x288 with 1 Axes>"
      ]
     },
     "metadata": {
      "needs_background": "light"
     },
     "output_type": "display_data"
    }
   ],
   "source": [
    "from scipy.ndimage.interpolation import shift\n",
    "shift_image = shift(image,(-4,4))\n",
    "plt.imshow(shift_image, cmap=\"binary\")\n",
    "plt.show()"
   ]
  },
  {
   "cell_type": "code",
   "execution_count": 12,
   "metadata": {},
   "outputs": [],
   "source": [
    "from scipy.ndimage.interpolation import shift\n",
    "\n",
    "shifted_X_train = []\n",
    "shifted_y_train = []\n",
    "\n",
    "\n",
    "for index in range(len(X_train)):\n",
    "    for direction in [(0,1),(0,-1),(1,0),(-1,0)]:\n",
    "        image = X_train.iloc[index].to_numpy().reshape(28,28)\n",
    "        shifted_X_train.append(shift(image,direction).reshape(784))\n",
    "        shifted_y_train.append(y_train[index])\n",
    "\n",
    "#shifted_X_train = np.reshape(shifted_X_train,())\n"
   ]
  },
  {
   "cell_type": "code",
   "execution_count": 13,
   "metadata": {},
   "outputs": [
    {
     "data": {
      "text/plain": [
       "['s_y_t.pkl']"
      ]
     },
     "execution_count": 13,
     "metadata": {},
     "output_type": "execute_result"
    }
   ],
   "source": [
    "# import joblib\n",
    "# joblib.dump(shifted_X_train, \"s_X_t.pkl\")\n",
    "# joblib.dump(shifted_y_train, \"s_y_t.pkl\")"
   ]
  },
  {
   "cell_type": "code",
   "execution_count": 6,
   "metadata": {},
   "outputs": [],
   "source": [
    "import joblib\n",
    "shifted_X_train = joblib.load(\"s_X_t.pkl\")\n",
    "shifted_y_train = joblib.load(\"s_y_t.pkl\")"
   ]
  },
  {
   "cell_type": "code",
   "execution_count": 7,
   "metadata": {},
   "outputs": [
    {
     "data": {
      "text/plain": [
       "(240000, 784)"
      ]
     },
     "execution_count": 7,
     "metadata": {},
     "output_type": "execute_result"
    }
   ],
   "source": [
    "import numpy as np\n",
    "np.shape(shifted_X_train)\n"
   ]
  },
  {
   "cell_type": "code",
   "execution_count": 14,
   "metadata": {},
   "outputs": [
    {
     "data": {
      "text/plain": [
       "(4, 784)"
      ]
     },
     "execution_count": 14,
     "metadata": {},
     "output_type": "execute_result"
    }
   ],
   "source": [
    "# import pandas as pd\n",
    "\n",
    "# current_X_columns = X_train.columns\n",
    "# #current_Y_columns = y_train.columns # ytrain is series so no columns\n",
    "# current_X_train = X_train.to_numpy()\n",
    "\n",
    "# new_data = np.append(current_X_train[:2],shifted_X_train[:2],axis=0)\n",
    "# np.shape(new_data)\n"
   ]
  },
  {
   "cell_type": "code",
   "execution_count": 15,
   "metadata": {},
   "outputs": [
    {
     "name": "stdout",
     "output_type": "stream",
     "text": [
      "(784,)\n"
     ]
    }
   ],
   "source": [
    "# print(np.shape(current_X_columns))\n",
    "# new_df = pd.DataFrame(new_data,columns=current_X_columns)"
   ]
  },
  {
   "cell_type": "code",
   "execution_count": 6,
   "metadata": {},
   "outputs": [],
   "source": [
    "# import pandas as pd\n",
    "# shifted__df = pd.DataFrame(shifted_X_train,columns = X_train.columns)"
   ]
  },
  {
   "cell_type": "code",
   "execution_count": 7,
   "metadata": {},
   "outputs": [
    {
     "data": {
      "text/plain": [
       "['s_df.pkl']"
      ]
     },
     "execution_count": 7,
     "metadata": {},
     "output_type": "execute_result"
    }
   ],
   "source": [
    "#joblib.dump(shifted__df,\"s_df.pkl\")"
   ]
  },
  {
   "cell_type": "code",
   "execution_count": 8,
   "metadata": {},
   "outputs": [],
   "source": [
    "shifted__df = joblib.load(\"s_df.pkl\")"
   ]
  },
  {
   "cell_type": "code",
   "execution_count": 9,
   "metadata": {},
   "outputs": [],
   "source": [
    "import pandas as pd\n",
    "augmented_X_train = pd.concat([X_train,shifted__df])\n",
    "augmented_y_train = y_train.append(pd.Series(shifted_y_train))"
   ]
  },
  {
   "cell_type": "code",
   "execution_count": 10,
   "metadata": {},
   "outputs": [
    {
     "name": "stdout",
     "output_type": "stream",
     "text": [
      "<class 'pandas.core.frame.DataFrame'>\n",
      "<class 'pandas.core.series.Series'>\n"
     ]
    }
   ],
   "source": [
    "print(type(augmented_X_train))\n",
    "print(type(augmented_y_train))"
   ]
  },
  {
   "cell_type": "code",
   "execution_count": 11,
   "metadata": {},
   "outputs": [
    {
     "name": "stdout",
     "output_type": "stream",
     "text": [
      "best estimator: Pipeline(steps=[('classifier',\n",
      "                 KNeighborsClassifier(n_neighbors=4, weights='distance'))])\n",
      "best score: 0.9845466666666667\n"
     ]
    }
   ],
   "source": [
    "from sklearn.neighbors import KNeighborsClassifier\n",
    "from sklearn.pipeline import Pipeline\n",
    "from sklearn.preprocessing import StandardScaler\n",
    "from sklearn.model_selection import GridSearchCV\n",
    "\n",
    "\n",
    "pl_knn = Pipeline (steps=[('classifier',KNeighborsClassifier())])\n",
    "\n",
    "param_grid = {'classifier__n_neighbors':[4,5], 'classifier__weights':['distance']}\n",
    "\n",
    "grid_search_aug = GridSearchCV(pl_knn,param_grid,cv=5,scoring=\"accuracy\", return_train_score=True, n_jobs=3)\n",
    "grid_search_aug.fit(augmented_X_train,augmented_y_train)\n",
    "print(f\"best estimator: {grid_search_aug.best_estimator_}\")\n",
    "print(f\"best score: {grid_search_aug.best_score_}\")\n"
   ]
  },
  {
   "cell_type": "code",
   "execution_count": 12,
   "metadata": {},
   "outputs": [
    {
     "data": {
      "text/plain": [
       "0.9763"
      ]
     },
     "execution_count": 12,
     "metadata": {},
     "output_type": "execute_result"
    }
   ],
   "source": [
    "y_pred = grid_search_aug.predict(X_test)\n",
    "accuracy_score(y_test,y_pred)"
   ]
  },
  {
   "cell_type": "markdown",
   "metadata": {},
   "source": [
    "### so augmenting the training set with images shifted by 1 pixel in either direction has improved the performance of hyper parameter tuned KNN regression from 97.1% accuracy to 97.6% accuracy\n",
    "\n",
    "* This has inflated the training set by a factor of 4 leading to slower training and tuning"
   ]
  }
 ],
 "metadata": {
  "interpreter": {
   "hash": "40a6d3daba109dd36035c486cbe134237beb3103005e5f3b9c526cde33e5461d"
  },
  "kernelspec": {
   "display_name": "Python 3.8.8 ('PandasNumpyMathplotlib')",
   "language": "python",
   "name": "python3"
  },
  "language_info": {
   "codemirror_mode": {
    "name": "ipython",
    "version": 3
   },
   "file_extension": ".py",
   "mimetype": "text/x-python",
   "name": "python",
   "nbconvert_exporter": "python",
   "pygments_lexer": "ipython3",
   "version": "3.8.8"
  },
  "orig_nbformat": 4
 },
 "nbformat": 4,
 "nbformat_minor": 2
}
