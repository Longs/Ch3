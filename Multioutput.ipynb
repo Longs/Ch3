{
 "cells": [
  {
   "cell_type": "markdown",
   "metadata": {},
   "source": [
    "# Multioutput(-multiclass) classification\n",
    "* Each label can be a multiclass\n",
    "* Example using cleanup of random noise added to training and test data\n",
    "    * y is the cleaned up trauining data in this case\n",
    "    "
   ]
  },
  {
   "cell_type": "code",
   "execution_count": 4,
   "metadata": {},
   "outputs": [],
   "source": [
    "\n",
    "from sklearn.datasets import fetch_openml\n",
    "import numpy as np\n",
    "mnist = fetch_openml('mnist_784',version = 1)\n",
    "X,y = mnist[\"data\"], mnist[\"target\"]\n",
    "y = y.astype(np.uint8)\n",
    "# mnist784 is already in random order, so just take the final 10k out of 70 k as test set\n",
    "X_train, X_test, y_train, y_test = X[:60000], X[60000:], y[:60000], y[60000:]\n",
    "\n",
    "# X is images with aritifical noise\n",
    "# Y is the original clean image\n",
    "\n",
    "noise=np.random.randint(0,100,(len(X_train),784))\n",
    "X_train_noisy = X_train + noise\n",
    "noise=np.random.randint(0,100,(len(X_test),784))\n",
    "X_test_noisy = X_test + noise\n",
    "\n",
    "y_train_noisy = X_train\n",
    "y_test_noisy = X_test"
   ]
  },
  {
   "cell_type": "code",
   "execution_count": 6,
   "metadata": {},
   "outputs": [
    {
     "data": {
      "image/png": "[encoded data removed]",
      "text/plain": [
       "<Figure size 432x288 with 1 Axes>"
      ]
     },
     "metadata": {
      "needs_background": "light"
     },
     "output_type": "display_data"
    }
   ],
   "source": [
    "import matplotlib.pyplot as plt\n",
    "sample_digit = X_train.iloc[0].to_numpy()\n",
    "sample_digit_image = sample_digit.reshape(28,28)\n",
    "plt.imshow(sample_digit_image, cmap=\"binary\")\n",
    "plt.show()"
   ]
  },
  {
   "cell_type": "code",
   "execution_count": 8,
   "metadata": {},
   "outputs": [
    {
     "data": {
      "image/png": "[encoded data removed]",
      "text/plain": [
       "<Figure size 432x288 with 1 Axes>"
      ]
     },
     "metadata": {
      "needs_background": "light"
     },
     "output_type": "display_data"
    }
   ],
   "source": [
    "sample_digit = y_train_noisy.iloc[0].to_numpy()\n",
    "sample_digit_image = sample_digit.reshape(28,28)\n",
    "plt.imshow(sample_digit_image, cmap=\"binary\")\n",
    "plt.show()"
   ]
  },
  {
   "cell_type": "code",
   "execution_count": 15,
   "metadata": {},
   "outputs": [],
   "source": [
    "from sklearn.neighbors import KNeighborsClassifier\n",
    "knn_clf_noisy = KNeighborsClassifier()\n",
    "knn_clf_noisy.fit(X_train_noisy,y_train_noisy)\n",
    "output = knn_clf_noisy.predict(X_test_noisy.iloc[1].to_numpy().reshape(1, -1))"
   ]
  },
  {
   "cell_type": "code",
   "execution_count": 16,
   "metadata": {},
   "outputs": [
    {
     "data": {
      "image/png": "[encoded data removed]",
      "text/plain": [
       "<Figure size 432x288 with 1 Axes>"
      ]
     },
     "metadata": {
      "needs_background": "light"
     },
     "output_type": "display_data"
    }
   ],
   "source": [
    "output_image = output.reshape(28,28)\n",
    "plt.imshow(output_image, cmap=\"binary\")\n",
    "plt.show()"
   ]
  },
  {
   "cell_type": "code",
   "execution_count": 17,
   "metadata": {},
   "outputs": [
    {
     "data": {
      "image/png": "[encoded data removed]",
      "text/plain": [
       "<Figure size 432x288 with 1 Axes>"
      ]
     },
     "metadata": {
      "needs_background": "light"
     },
     "output_type": "display_data"
    }
   ],
   "source": [
    "sample_digit = y_test_noisy.iloc[1].to_numpy()\n",
    "sample_digit_image = sample_digit.reshape(28,28)\n",
    "plt.imshow(sample_digit_image, cmap=\"binary\")\n",
    "plt.show()"
   ]
  },
  {
   "cell_type": "markdown",
   "metadata": {},
   "source": [
    "* Will never be an exact match - since its picking the closest example from the training set to represent the test set"
   ]
  }
 ],
 "metadata": {
  "interpreter": {
   "hash": "40a6d3daba109dd36035c486cbe134237beb3103005e5f3b9c526cde33e5461d"
  },
  "kernelspec": {
   "display_name": "Python 3.8.8 ('PandasNumpyMathplotlib')",
   "language": "python",
   "name": "python3"
  },
  "language_info": {
   "codemirror_mode": {
    "name": "ipython",
    "version": 3
   },
   "file_extension": ".py",
   "mimetype": "text/x-python",
   "name": "python",
   "nbconvert_exporter": "python",
   "pygments_lexer": "ipython3",
   "version": "3.8.8"
  },
  "orig_nbformat": 4
 },
 "nbformat": 4,
 "nbformat_minor": 2
}
